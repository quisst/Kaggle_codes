{
 "cells": [
  {
   "cell_type": "markdown",
   "id": "42ac274c",
   "metadata": {},
   "source": [
    "# Jane Street Real-Time Market Data Forecasting\n",
    "## - using lgbm with optuna and k-fold"
   ]
  },
  {
   "cell_type": "markdown",
   "id": "607a036d",
   "metadata": {},
   "source": [
    "### Importing libraries"
   ]
  },
  {
   "cell_type": "code",
   "execution_count": null,
   "id": "193a3bbd",
   "metadata": {
    "execution": {
     "iopub.execute_input": "2024-11-21T13:47:35.637636Z",
     "iopub.status.busy": "2024-11-21T13:47:35.637143Z",
     "iopub.status.idle": "2024-11-21T13:47:39.438892Z",
     "shell.execute_reply": "2024-11-21T13:47:39.437739Z"
    },
    "papermill": {
     "duration": 3.80876,
     "end_time": "2024-11-21T13:47:39.441232",
     "exception": false,
     "start_time": "2024-11-21T13:47:35.632472",
     "status": "completed"
    },
    "tags": []
   },
   "outputs": [],
   "source": [
    "import optuna\n",
    "import numpy as np\n",
    "import polars as pl\n",
    "import pandas as pd\n",
    "import lightgbm as lgb\n",
    "import os\n",
    "import joblib\n",
    "import kaggle_evaluation.jane_street_inference_server"
   ]
  },
  {
   "cell_type": "code",
   "execution_count": null,
   "id": "a482d07c",
   "metadata": {
    "execution": {
     "iopub.execute_input": "2024-11-21T13:47:39.449558Z",
     "iopub.status.busy": "2024-11-21T13:47:39.449044Z",
     "iopub.status.idle": "2024-11-21T13:47:39.454893Z",
     "shell.execute_reply": "2024-11-21T13:47:39.453817Z"
    },
    "papermill": {
     "duration": 0.012315,
     "end_time": "2024-11-21T13:47:39.456975",
     "exception": false,
     "start_time": "2024-11-21T13:47:39.444660",
     "status": "completed"
    },
    "tags": []
   },
   "outputs": [],
   "source": [
    "TARGET = 'responder_6'\n",
    "FEAT_COLS = [f\"feature_{i:02d}\" for i in range(79)]"
   ]
  },
  {
   "cell_type": "markdown",
   "id": "40295cc2",
   "metadata": {},
   "source": [
    "### Applying filters to the data"
   ]
  },
  {
   "cell_type": "code",
   "execution_count": null,
   "id": "4835e500",
   "metadata": {
    "execution": {
     "iopub.execute_input": "2024-11-21T13:47:39.465086Z",
     "iopub.status.busy": "2024-11-21T13:47:39.464730Z",
     "iopub.status.idle": "2024-11-21T13:47:39.472238Z",
     "shell.execute_reply": "2024-11-21T13:47:39.471355Z"
    },
    "papermill": {
     "duration": 0.013644,
     "end_time": "2024-11-21T13:47:39.473936",
     "exception": false,
     "start_time": "2024-11-21T13:47:39.460292",
     "status": "completed"
    },
    "tags": []
   },
   "outputs": [],
   "source": [
    "def load_data(date_id_range=None, time_id_range=None, columns=None, return_type='pl'):\n",
    "    data_dir = '../input/jane-street-real-time-market-data-forecasting' # Depending on the coding environment\n",
    "    data = pl.scan_parquet(f\"{data_dir}/train.parquet\")\n",
    "\n",
    "    if date_id_range is not None:\n",
    "        start_date, end_date = date_id_range\n",
    "        data = data.filter((pl.col(\"date_id\") >= start_date) & (pl.col(\"date_id\") <= end_date))\n",
    "\n",
    "    if time_id_range is not None:\n",
    "        start_time, end_time = time_id_range\n",
    "        data = data.filter((pl.col(\"time_id\") >= start_time) & (pl.col(\"time_id\") <= end_time))\n",
    "\n",
    "    if columns is not None:\n",
    "        data = data.select(columns)\n",
    "\n",
    "    if return_type == 'pd':\n",
    "        return data.collect().to_pandas()\n",
    "    else:\n",
    "        return data.collect()"
   ]
  },
  {
   "cell_type": "code",
   "execution_count": null,
   "id": "32cda0a6",
   "metadata": {
    "execution": {
     "iopub.execute_input": "2024-11-21T13:47:39.481896Z",
     "iopub.status.busy": "2024-11-21T13:47:39.481288Z",
     "iopub.status.idle": "2024-11-21T13:47:39.487288Z",
     "shell.execute_reply": "2024-11-21T13:47:39.486416Z"
    },
    "papermill": {
     "duration": 0.011834,
     "end_time": "2024-11-21T13:47:39.489024",
     "exception": false,
     "start_time": "2024-11-21T13:47:39.477190",
     "status": "completed"
    },
    "tags": []
   },
   "outputs": [],
   "source": [
    "def calculate_r2(y_true, y_pred, weights):\n",
    "    numerator = np.sum(weights * (y_true - y_pred) ** 2)\n",
    "    denominator = np.sum(weights * (y_true ** 2))\n",
    "    r2_score = 1 - (numerator / denominator)\n",
    "    return r2_score"
   ]
  },
  {
   "cell_type": "code",
   "execution_count": null,
   "id": "f99a89dc",
   "metadata": {
    "execution": {
     "iopub.execute_input": "2024-11-21T13:47:39.497269Z",
     "iopub.status.busy": "2024-11-21T13:47:39.496885Z",
     "iopub.status.idle": "2024-11-21T13:47:39.615524Z",
     "shell.execute_reply": "2024-11-21T13:47:39.614398Z"
    },
    "papermill": {
     "duration": 0.125327,
     "end_time": "2024-11-21T13:47:39.617625",
     "exception": false,
     "start_time": "2024-11-21T13:47:39.492298",
     "status": "completed"
    },
    "tags": []
   },
   "outputs": [],
   "source": [
    "class ModelGroup:\n",
    "    def __init__(self):\n",
    "        self.models = []\n",
    "\n",
    "    def add_model(self, model):\n",
    "        self.models.append(model)\n",
    "\n",
    "    def predict(self, test_data):\n",
    "        preds = []\n",
    "        for model in self.models:\n",
    "            pred = model.predict(test_data[FEAT_COLS])\n",
    "            preds.append(pred)\n",
    "        avg_pred = np.mean(preds, axis=0)\n",
    "        return avg_pred\n",
    "\n",
    "    @classmethod\n",
    "    def load(cls, file_path):\n",
    "        \"\"\"Load a model group from a file.\"\"\"\n",
    "        model_group = joblib.load(file_path)\n",
    "        return model_group"
   ]
  },
  {
   "cell_type": "markdown",
   "id": "0e8dd326",
   "metadata": {},
   "source": [
    "### Hyperparameter tuning with Optuna and training using k-fold"
   ]
  },
  {
   "cell_type": "code",
   "execution_count": null,
   "id": "51fdc6fb",
   "metadata": {},
   "outputs": [],
   "source": [
    "def train_lgb_kfold_optuna(total_days=1499, n_splits=5):\n",
    "    fold_size = total_days // n_splits\n",
    "    folds = [(i * fold_size, min((i + 1) * fold_size - 1, total_days - 1)) for i in range(n_splits)]\n",
    "    \n",
    "    model_group = ModelGroup()\n",
    "\n",
    "    def objective(trial):\n",
    "        valid_range = folds[0]\n",
    "        train_ranges = [folds[i] for i in range(1, n_splits)]\n",
    "\n",
    "        valid_data = load_data(date_id_range=valid_range, columns=[\"date_id\", \"weight\"] + FEAT_COLS + [TARGET], return_type='pl')\n",
    "        valid_weight = valid_data['weight'].to_pandas()\n",
    "\n",
    "        train_data = None\n",
    "        for train_range in train_ranges:\n",
    "            partial_train_data = load_data(date_id_range=train_range, columns=[\"date_id\", \"weight\"] + FEAT_COLS + [TARGET], return_type='pl')\n",
    "            if train_data is None:\n",
    "                train_data = partial_train_data\n",
    "            else:\n",
    "                train_data = train_data.vstack(partial_train_data)\n",
    "\n",
    "        train_weight = train_data['weight'].to_pandas()\n",
    "\n",
    "        train_ds = lgb.Dataset(train_data.select(FEAT_COLS+['weight']).to_pandas(), label=train_data[TARGET].to_pandas(), weight=train_weight)\n",
    "        valid_ds = lgb.Dataset(valid_data.select(FEAT_COLS+['weight']).to_pandas(), label=valid_data[TARGET].to_pandas(), weight=valid_weight, reference=train_ds)\n",
    "\n",
    "        LGB_PARAMS = {\n",
    "            'objective': 'regression_l2',\n",
    "            'metric': 'rmse',\n",
    "            'learning_rate': trial.suggest_loguniform('learning_rate', 0.01, 0.1),\n",
    "            'num_leaves': trial.suggest_int('num_leaves', 20, 100),\n",
    "            'max_depth': trial.suggest_int('max_depth', -1, 10),\n",
    "            'min_child_weight': trial.suggest_loguniform('min_child_weight', 1e-3, 10),\n",
    "            'subsample': trial.suggest_float('subsample', 0.6, 1.0),\n",
    "            'colsample_bytree': trial.suggest_float('colsample_bytree', 0.6, 1.0),\n",
    "            'lambda_l1': trial.suggest_loguniform('lambda_l1', 1e-3, 10),\n",
    "            'lambda_l2': trial.suggest_loguniform('lambda_l2', 1e-3, 10),\n",
    "            'device': 'gpu',\n",
    "        }\n",
    "\n",
    "        model = lgb.train(\n",
    "            LGB_PARAMS,\n",
    "            train_ds,\n",
    "            num_boost_round=500,\n",
    "            valid_sets=[train_ds, valid_ds],\n",
    "            valid_names=['train', 'valid'],\n",
    "            callbacks=[lgb.early_stopping(50), lgb.log_evaluation(100)],\n",
    "        )\n",
    "\n",
    "        y_valid_pred = model.predict(valid_data.select(FEAT_COLS+['weight']).to_pandas())\n",
    "        r2_score = calculate_r2(valid_data[TARGET].to_pandas(), y_valid_pred, valid_weight)\n",
    "        return -r2_score\n",
    "\n",
    "    study = optuna.create_study(direction='minimize')\n",
    "    study.optimize(objective, n_trials=50)\n",
    "\n",
    "    print(\"Best parameters:\", study.best_params)\n",
    "    return model_group"
   ]
  },
  {
   "cell_type": "markdown",
   "id": "3c7ad87e",
   "metadata": {
    "papermill": {
     "duration": 0.003065,
     "end_time": "2024-11-21T13:47:39.624061",
     "exception": false,
     "start_time": "2024-11-21T13:47:39.620996",
     "status": "completed"
    },
    "tags": []
   },
   "source": [
    "### Model training"
   ]
  },
  {
   "cell_type": "code",
   "execution_count": null,
   "id": "74634ada",
   "metadata": {
    "execution": {
     "iopub.execute_input": "2024-11-21T13:47:39.632115Z",
     "iopub.status.busy": "2024-11-21T13:47:39.631590Z",
     "iopub.status.idle": "2024-11-21T13:47:39.635746Z",
     "shell.execute_reply": "2024-11-21T13:47:39.634803Z"
    },
    "papermill": {
     "duration": 0.01043,
     "end_time": "2024-11-21T13:47:39.637628",
     "exception": false,
     "start_time": "2024-11-21T13:47:39.627198",
     "status": "completed"
    },
    "tags": []
   },
   "outputs": [],
   "source": [
    "model = train_lgb_kfold_optuna(total_days=1699, n_splits=5)"
   ]
  },
  {
   "cell_type": "code",
   "execution_count": null,
   "id": "3b9edb53",
   "metadata": {
    "execution": {
     "iopub.execute_input": "2024-11-21T13:47:40.052647Z",
     "iopub.status.busy": "2024-11-21T13:47:40.052329Z",
     "iopub.status.idle": "2024-11-21T13:47:40.059415Z",
     "shell.execute_reply": "2024-11-21T13:47:40.058485Z"
    },
    "papermill": {
     "duration": 0.013264,
     "end_time": "2024-11-21T13:47:40.061361",
     "exception": false,
     "start_time": "2024-11-21T13:47:40.048097",
     "status": "completed"
    },
    "tags": []
   },
   "outputs": [],
   "source": [
    "lags_ : pl.DataFrame | None = None\n",
    "\n",
    "def predict(test: pl.DataFrame, lags: pl.DataFrame | None) -> pl.DataFrame | pd.DataFrame:\n",
    "    global lags_\n",
    "    if lags is not None:\n",
    "        lags_ = lags\n",
    "\n",
    "    predictions = test.select(\n",
    "        'row_id',\n",
    "        pl.lit(0.0).alias('responder_6'),\n",
    "    )\n",
    "    \n",
    "    feat = test[FEAT_COLS+['weight']].to_pandas()\n",
    "\n",
    "    pred = model.predict(feat)\n",
    "\n",
    "    predictions = predictions.with_columns(pl.Series('responder_6', pred.ravel()))\n",
    "    print(predictions)\n",
    "\n",
    "    assert isinstance(predictions, pl.DataFrame | pd.DataFrame)\n",
    "\n",
    "    assert list(predictions.columns) == ['row_id', 'responder_6']\n",
    "\n",
    "    assert len(predictions) == len(test)\n",
    "\n",
    "    return predictions"
   ]
  },
  {
   "cell_type": "code",
   "execution_count": null,
   "id": "7787a81d",
   "metadata": {
    "execution": {
     "iopub.execute_input": "2024-11-21T13:47:40.068818Z",
     "iopub.status.busy": "2024-11-21T13:47:40.068509Z",
     "iopub.status.idle": "2024-11-21T13:47:40.473333Z",
     "shell.execute_reply": "2024-11-21T13:47:40.472018Z"
    },
    "papermill": {
     "duration": 0.411163,
     "end_time": "2024-11-21T13:47:40.475781",
     "exception": false,
     "start_time": "2024-11-21T13:47:40.064618",
     "status": "completed"
    },
    "tags": []
   },
   "outputs": [],
   "source": [
    "inference_server = kaggle_evaluation.jane_street_inference_server.JSInferenceServer(predict)\n",
    "\n",
    "if os.getenv('KAGGLE_IS_COMPETITION_RERUN'):\n",
    "    inference_server.serve()\n",
    "else:\n",
    "    inference_server.run_local_gateway(\n",
    "        (\n",
    "            '/kaggle/input/jane-street-real-time-market-data-forecasting/test.parquet',\n",
    "            '/kaggle/input/jane-street-real-time-market-data-forecasting/lags.parquet',\n",
    "        )\n",
    "    )"
   ]
  }
 ],
 "metadata": {
  "kaggle": {
   "accelerator": "none",
   "dataSources": [
    {
     "databundleVersionId": 9871156,
     "sourceId": 84493,
     "sourceType": "competition"
    },
    {
     "modelId": 145506,
     "modelInstanceId": 122421,
     "sourceId": 144445,
     "sourceType": "modelInstanceVersion"
    },
    {
     "modelId": 147210,
     "modelInstanceId": 124151,
     "sourceId": 146374,
     "sourceType": "modelInstanceVersion"
    }
   ],
   "dockerImageVersionId": 30786,
   "isGpuEnabled": false,
   "isInternetEnabled": false,
   "language": "python",
   "sourceType": "notebook"
  },
  "kernelspec": {
   "display_name": "base",
   "language": "python",
   "name": "python3"
  },
  "language_info": {
   "codemirror_mode": {
    "name": "ipython",
    "version": 3
   },
   "file_extension": ".py",
   "mimetype": "text/x-python",
   "name": "python",
   "nbconvert_exporter": "python",
   "pygments_lexer": "ipython3",
   "version": "3.12.7"
  },
  "papermill": {
   "default_parameters": {},
   "duration": 8.342572,
   "end_time": "2024-11-21T13:47:41.201465",
   "environment_variables": {},
   "exception": null,
   "input_path": "__notebook__.ipynb",
   "output_path": "__notebook__.ipynb",
   "parameters": {},
   "start_time": "2024-11-21T13:47:32.858893",
   "version": "2.6.0"
  }
 },
 "nbformat": 4,
 "nbformat_minor": 5
}
